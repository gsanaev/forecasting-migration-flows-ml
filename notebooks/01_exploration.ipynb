{
 "cells": [
  {
   "cell_type": "code",
   "execution_count": null,
   "id": "014523c2",
   "metadata": {},
   "outputs": [],
   "source": [
    "from dpp.data import load_dataset\n",
    "\n",
    "# Load a dataset from Kaggle\n",
    "load_dataset(\"anandshaw2001/top-spotify-songs-in-countries\", destination=\"../data/raw\")\n"
   ]
  },
  {
   "cell_type": "code",
   "execution_count": null,
   "id": "92bb5c04",
   "metadata": {},
   "outputs": [],
   "source": [
    "import pandas as pd\n",
    "\n",
    "# Load the dataset\n",
    "df = pd.read_csv(\"../data/raw/spotify_history.csv\")\n",
    "df.head()"
   ]
  }
 ],
 "metadata": {
  "kernelspec": {
   "display_name": "protfolio-project",
   "language": "python",
   "name": "python3"
  },
  "language_info": {
   "codemirror_mode": {
    "name": "ipython",
    "version": 3
   },
   "file_extension": ".py",
   "mimetype": "text/x-python",
   "name": "python",
   "nbconvert_exporter": "python",
   "pygments_lexer": "ipython3",
   "version": "3.12.4"
  }
 },
 "nbformat": 4,
 "nbformat_minor": 5
}
